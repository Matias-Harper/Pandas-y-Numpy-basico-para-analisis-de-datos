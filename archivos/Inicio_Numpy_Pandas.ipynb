{
  "cells": [
    {
      "attachments": {},
      "cell_type": "markdown",
      "metadata": {},
      "source": [
        "## Numpy"
      ]
    },
    {
      "cell_type": "code",
      "execution_count": 2,
      "metadata": {
        "id": "vZb3p_RfWtC8"
      },
      "outputs": [],
      "source": [
        "#Importamos la librería \n",
        "import numpy as np"
      ]
    },
    {
      "cell_type": "code",
      "execution_count": 3,
      "metadata": {
        "id": "_tpsADuk2T9f"
      },
      "outputs": [
        {
          "name": "stdout",
          "output_type": "stream",
          "text": [
            "['Matias' 'Naranjo' 'M' 'Rosario' 'Santa Fe']\n"
          ]
        }
      ],
      "source": [
        "# generamos un Array que tenga la siguiente información (nombre apellido genero ciudad provincia )\n",
        "# arreglo de una dimensión\n",
        "arreglo_uno = np.array([\"Matias\", \"Naranjo\", \"M\", \"Rosario\", \"Santa Fe\"])\n",
        "print(arreglo_uno)"
      ]
    },
    {
      "cell_type": "code",
      "execution_count": 4,
      "metadata": {},
      "outputs": [
        {
          "name": "stdout",
          "output_type": "stream",
          "text": [
            "[['Matias' 'Naranjo' 'M' 'Rosario' 'Santa Fe']\n",
            " ['1' '2' '3' '4' '5']]\n"
          ]
        }
      ],
      "source": [
        "#arreglo de dos dimensiones\n",
        "arreglo_dos = np.array([[\"Matias\", \"Naranjo\", \"M\", \"Rosario\", \"Santa Fe\"],[1,2,3,4,5]])\n",
        "print(arreglo_dos)"
      ]
    },
    {
      "cell_type": "code",
      "execution_count": 5,
      "metadata": {},
      "outputs": [
        {
          "data": {
            "text/plain": [
              "2"
            ]
          },
          "execution_count": 5,
          "metadata": {},
          "output_type": "execute_result"
        }
      ],
      "source": [
        "#el metodo ndim nos permite conocer las dimensiones de un array\n",
        "arreglo_dos.ndim"
      ]
    },
    {
      "cell_type": "code",
      "execution_count": 6,
      "metadata": {
        "id": "HqOJ2Izi6vUv"
      },
      "outputs": [
        {
          "data": {
            "text/plain": [
              "'Matias'"
            ]
          },
          "execution_count": 6,
          "metadata": {},
          "output_type": "execute_result"
        }
      ],
      "source": [
        "#Indices, acceso a los elementos del array\n",
        "#el primer arreglo solo posee una dimension asi que sera mas simple si queremos acceder a \"Matias\" \n",
        "#solo debemos recordar que en Python se comienza desde el 0\n",
        "arreglo_uno[0]"
      ]
    },
    {
      "cell_type": "code",
      "execution_count": 7,
      "metadata": {
        "id": "F5i43Em3NAvQ"
      },
      "outputs": [
        {
          "data": {
            "text/plain": [
              "'Matias'"
            ]
          },
          "execution_count": 7,
          "metadata": {},
          "output_type": "execute_result"
        }
      ],
      "source": [
        "#en el segundo ya tenemos dos dimensiones, primero colocaremos la fila y podemos recordarlo como \n",
        "# FC = Futbol Club\n",
        "arreglo_dos[0][0]"
      ]
    },
    {
      "cell_type": "code",
      "execution_count": 8,
      "metadata": {},
      "outputs": [
        {
          "data": {
            "text/plain": [
              "'4'"
            ]
          },
          "execution_count": 8,
          "metadata": {},
          "output_type": "execute_result"
        }
      ],
      "source": [
        "arreglo_dos[1][3]"
      ]
    },
    {
      "cell_type": "code",
      "execution_count": 9,
      "metadata": {},
      "outputs": [
        {
          "data": {
            "text/plain": [
              "array(['Matias', 'Naranjo', 'M'], dtype='<U8')"
            ]
          },
          "execution_count": 9,
          "metadata": {},
          "output_type": "execute_result"
        }
      ],
      "source": [
        "#todas las características de los indices que conocemos de Python serán útiles por ejemplo queremos los 3 primeros valores de arreglo_uno\n",
        "arreglo_uno[0:3]"
      ]
    },
    {
      "cell_type": "code",
      "execution_count": 10,
      "metadata": {},
      "outputs": [
        {
          "data": {
            "text/plain": [
              "array(['Matias', 'Naranjo', 'M'], dtype='<U21')"
            ]
          },
          "execution_count": 10,
          "metadata": {},
          "output_type": "execute_result"
        }
      ],
      "source": [
        "arreglo_dos[0][0:3]"
      ]
    },
    {
      "cell_type": "code",
      "execution_count": 11,
      "metadata": {},
      "outputs": [
        {
          "data": {
            "text/plain": [
              "array(['Matias', 'Naranjo', 'M'], dtype='<U21')"
            ]
          },
          "execution_count": 11,
          "metadata": {},
          "output_type": "execute_result"
        }
      ],
      "source": [
        "#otra manera de escribir este segundo ejemplo puede ser\n",
        "arreglo_dos[0, 0:3]"
      ]
    },
    {
      "attachments": {},
      "cell_type": "markdown",
      "metadata": {
        "id": "hun20tm9jwCp"
      },
      "source": [
        "### Métodos útiles\n",
        "**copy():** Permite realizar una copia de los datos y cualquier cambio realizado en la copia no afectará la matriz original, y cualquier cambio realizado en la matriz original no afectará a la copia."
      ]
    },
    {
      "cell_type": "code",
      "execution_count": 12,
      "metadata": {
        "id": "OOFi5ImSjvbj"
      },
      "outputs": [
        {
          "name": "stdout",
          "output_type": "stream",
          "text": [
            "['Matias' 'CAMBIO' 'M' 'Rosario' 'Santa Fe']\n",
            "['Matias' 'Naranjo' 'M' 'Rosario' 'Santa Fe']\n"
          ]
        }
      ],
      "source": [
        "copia = arreglo_uno.copy()\n",
        "copia[1]= \"CAMBIO\"\n",
        "print(copia)\n",
        "print(arreglo_uno)"
      ]
    },
    {
      "cell_type": "markdown",
      "metadata": {
        "id": "4oZBwqg1ms_z"
      },
      "source": [
        "**concatenate():** Permiter unir dos o maás matrices en una sola matriz."
      ]
    },
    {
      "cell_type": "code",
      "execution_count": 15,
      "metadata": {
        "id": "vVmGKExFnD3K"
      },
      "outputs": [
        {
          "name": "stdout",
          "output_type": "stream",
          "text": [
            "['Matias' 'Naranjo' 'M' 'Rosario' 'Santa Fe' 'hola' '2' 'pepe']\n"
          ]
        }
      ],
      "source": [
        "arreglo_con = np.array([\"hola\", 2, \"pepe\"])\n",
        "arreglo_union = np.concatenate((arreglo_uno,arreglo_con))\n",
        "print(arreglo_union)"
      ]
    },
    {
      "cell_type": "markdown",
      "metadata": {
        "id": "OCsHRqU9q4Fc"
      },
      "source": [
        "**array_split():** Se usa para dividir matrices, le pasamos la matriz que queremos dividir y el número de divisiones."
      ]
    },
    {
      "cell_type": "code",
      "execution_count": 16,
      "metadata": {
        "id": "_GOSgmuIrKp8"
      },
      "outputs": [
        {
          "name": "stdout",
          "output_type": "stream",
          "text": [
            "[array(['Matias', 'Naranjo'], dtype='<U21'), array(['M', 'Rosario'], dtype='<U21'), array(['Santa Fe', 'hola'], dtype='<U21'), array(['2', 'pepe'], dtype='<U21')]\n"
          ]
        }
      ],
      "source": [
        "split = np.array_split(arreglo_union,4)\n",
        "print(split)"
      ]
    },
    {
      "cell_type": "markdown",
      "metadata": {
        "id": "4VIi8FU5rtVq"
      },
      "source": [
        "**where()**: Es usado para buscar en una matriz."
      ]
    },
    {
      "cell_type": "code",
      "execution_count": 17,
      "metadata": {
        "id": "aE9lhoPYr45M"
      },
      "outputs": [
        {
          "data": {
            "text/plain": [
              "array([['Matias', 'Naranjo', 'M', 'Rosario', 'Santa Fe'],\n",
              "       ['1', '2', '3', '4', '5']], dtype='<U21')"
            ]
          },
          "execution_count": 17,
          "metadata": {},
          "output_type": "execute_result"
        }
      ],
      "source": [
        "arreglo_dos"
      ]
    },
    {
      "cell_type": "code",
      "execution_count": 21,
      "metadata": {},
      "outputs": [
        {
          "name": "stdout",
          "output_type": "stream",
          "text": [
            "(array([1]), array([3]))\n"
          ]
        }
      ],
      "source": [
        "x = np.where(arreglo_dos==\"4\")\n",
        "print(x)\n",
        "#nos indica las coordenadas donde está el valor \"4\""
      ]
    },
    {
      "cell_type": "markdown",
      "metadata": {
        "id": "RGWhT0XJsclm"
      },
      "source": [
        "**sort()**: Ordena una matriz específica."
      ]
    },
    {
      "cell_type": "code",
      "execution_count": 24,
      "metadata": {
        "id": "I2N6BRPEsrfL"
      },
      "outputs": [
        {
          "name": "stdout",
          "output_type": "stream",
          "text": [
            "[  3   1   6   8   4   4 556   4   2   6]\n",
            "[  1   2   3   4   4   4   6   6   8 556]\n"
          ]
        }
      ],
      "source": [
        "des = np.array([3,1,6,8,4,4,556,4,2,6])\n",
        "print(des)\n",
        "des = np.sort(des)\n",
        "print(des)"
      ]
    },
    {
      "attachments": {},
      "cell_type": "markdown",
      "metadata": {},
      "source": [
        "## Pandas\n"
      ]
    },
    {
      "cell_type": "code",
      "execution_count": 25,
      "metadata": {
        "id": "8HZhY8eVCFV9"
      },
      "outputs": [],
      "source": [
        "import pandas as pd"
      ]
    },
    {
      "cell_type": "code",
      "execution_count": 29,
      "metadata": {
        "id": "nIM8sgzTCqLZ"
      },
      "outputs": [],
      "source": [
        "#Leemos el dataset\n",
        "df = pd.read_csv(\"../archivos/data.csv\")"
      ]
    },
    {
      "cell_type": "code",
      "execution_count": 30,
      "metadata": {
        "id": "pKkoBi7HC-46"
      },
      "outputs": [
        {
          "data": {
            "text/html": [
              "<div>\n",
              "<style scoped>\n",
              "    .dataframe tbody tr th:only-of-type {\n",
              "        vertical-align: middle;\n",
              "    }\n",
              "\n",
              "    .dataframe tbody tr th {\n",
              "        vertical-align: top;\n",
              "    }\n",
              "\n",
              "    .dataframe thead th {\n",
              "        text-align: right;\n",
              "    }\n",
              "</style>\n",
              "<table border=\"1\" class=\"dataframe\">\n",
              "  <thead>\n",
              "    <tr style=\"text-align: right;\">\n",
              "      <th></th>\n",
              "      <th>first_name</th>\n",
              "      <th>last_name</th>\n",
              "      <th>gender</th>\n",
              "      <th>city_name</th>\n",
              "      <th>department_name</th>\n",
              "      <th>id_branch</th>\n",
              "      <th>medicine_type</th>\n",
              "      <th>medicine_quantity</th>\n",
              "      <th>systolic_pressure</th>\n",
              "      <th>diastolic_pressure</th>\n",
              "    </tr>\n",
              "  </thead>\n",
              "  <tbody>\n",
              "    <tr>\n",
              "      <th>0</th>\n",
              "      <td>Meagan</td>\n",
              "      <td>Swanson</td>\n",
              "      <td>f</td>\n",
              "      <td>Bucaramanga</td>\n",
              "      <td>Santander</td>\n",
              "      <td>27</td>\n",
              "      <td>8</td>\n",
              "      <td>158</td>\n",
              "      <td>142</td>\n",
              "      <td>85</td>\n",
              "    </tr>\n",
              "    <tr>\n",
              "      <th>1</th>\n",
              "      <td>Jennifer</td>\n",
              "      <td>Hancock</td>\n",
              "      <td>f</td>\n",
              "      <td>Bogota</td>\n",
              "      <td>Cundinamarca</td>\n",
              "      <td>14</td>\n",
              "      <td>9</td>\n",
              "      <td>11</td>\n",
              "      <td>186</td>\n",
              "      <td>115</td>\n",
              "    </tr>\n",
              "    <tr>\n",
              "      <th>2</th>\n",
              "      <td>Dorothy</td>\n",
              "      <td>Brumley</td>\n",
              "      <td>f</td>\n",
              "      <td>Medellin</td>\n",
              "      <td>Antioquia</td>\n",
              "      <td>2</td>\n",
              "      <td>18</td>\n",
              "      <td>100</td>\n",
              "      <td>190</td>\n",
              "      <td>124</td>\n",
              "    </tr>\n",
              "    <tr>\n",
              "      <th>3</th>\n",
              "      <td>Stephanie</td>\n",
              "      <td>Lamb</td>\n",
              "      <td>f</td>\n",
              "      <td>Riohacha</td>\n",
              "      <td>La Guajira</td>\n",
              "      <td>18</td>\n",
              "      <td>9</td>\n",
              "      <td>57</td>\n",
              "      <td>212</td>\n",
              "      <td>144</td>\n",
              "    </tr>\n",
              "    <tr>\n",
              "      <th>4</th>\n",
              "      <td>Keith</td>\n",
              "      <td>Wright</td>\n",
              "      <td>m</td>\n",
              "      <td>Pasto</td>\n",
              "      <td>Narino</td>\n",
              "      <td>21</td>\n",
              "      <td>20</td>\n",
              "      <td>150</td>\n",
              "      <td>24</td>\n",
              "      <td>48</td>\n",
              "    </tr>\n",
              "  </tbody>\n",
              "</table>\n",
              "</div>"
            ],
            "text/plain": [
              "  first_name last_name gender    city_name department_name  id_branch  \\\n",
              "0     Meagan   Swanson      f  Bucaramanga       Santander         27   \n",
              "1   Jennifer   Hancock      f       Bogota    Cundinamarca         14   \n",
              "2    Dorothy   Brumley      f     Medellin       Antioquia          2   \n",
              "3  Stephanie      Lamb      f     Riohacha      La Guajira         18   \n",
              "4      Keith    Wright      m        Pasto          Narino         21   \n",
              "\n",
              "   medicine_type  medicine_quantity  systolic_pressure  diastolic_pressure  \n",
              "0              8                158                142                  85  \n",
              "1              9                 11                186                 115  \n",
              "2             18                100                190                 124  \n",
              "3              9                 57                212                 144  \n",
              "4             20                150                 24                  48  "
            ]
          },
          "execution_count": 30,
          "metadata": {},
          "output_type": "execute_result"
        }
      ],
      "source": [
        "#visualizamos con el método .head(\"numero de filas que quiero ver\")\n",
        "#siempre muestra las primeras filas y por defecto muestra 5\n",
        "df.head()"
      ]
    },
    {
      "cell_type": "markdown",
      "metadata": {
        "id": "N7qROnDpLPYX"
      },
      "source": [
        "El método **tail()** devuelve los encabezados y un número específico de filas, comenzando desde abajo."
      ]
    },
    {
      "cell_type": "code",
      "execution_count": 31,
      "metadata": {
        "id": "vX7l0Rd8LdVA"
      },
      "outputs": [
        {
          "data": {
            "text/html": [
              "<div>\n",
              "<style scoped>\n",
              "    .dataframe tbody tr th:only-of-type {\n",
              "        vertical-align: middle;\n",
              "    }\n",
              "\n",
              "    .dataframe tbody tr th {\n",
              "        vertical-align: top;\n",
              "    }\n",
              "\n",
              "    .dataframe thead th {\n",
              "        text-align: right;\n",
              "    }\n",
              "</style>\n",
              "<table border=\"1\" class=\"dataframe\">\n",
              "  <thead>\n",
              "    <tr style=\"text-align: right;\">\n",
              "      <th></th>\n",
              "      <th>first_name</th>\n",
              "      <th>last_name</th>\n",
              "      <th>gender</th>\n",
              "      <th>city_name</th>\n",
              "      <th>department_name</th>\n",
              "      <th>id_branch</th>\n",
              "      <th>medicine_type</th>\n",
              "      <th>medicine_quantity</th>\n",
              "      <th>systolic_pressure</th>\n",
              "      <th>diastolic_pressure</th>\n",
              "    </tr>\n",
              "  </thead>\n",
              "  <tbody>\n",
              "    <tr>\n",
              "      <th>99995</th>\n",
              "      <td>John</td>\n",
              "      <td>Kimmel</td>\n",
              "      <td>m</td>\n",
              "      <td>Cucuta</td>\n",
              "      <td>Norte de Santander</td>\n",
              "      <td>22</td>\n",
              "      <td>19</td>\n",
              "      <td>46</td>\n",
              "      <td>194</td>\n",
              "      <td>122</td>\n",
              "    </tr>\n",
              "    <tr>\n",
              "      <th>99996</th>\n",
              "      <td>George</td>\n",
              "      <td>Harkness</td>\n",
              "      <td>m</td>\n",
              "      <td>Cartagena</td>\n",
              "      <td>Bolivar</td>\n",
              "      <td>5</td>\n",
              "      <td>10</td>\n",
              "      <td>161</td>\n",
              "      <td>20</td>\n",
              "      <td>11</td>\n",
              "    </tr>\n",
              "    <tr>\n",
              "      <th>99997</th>\n",
              "      <td>Frida</td>\n",
              "      <td>Ellis</td>\n",
              "      <td>f</td>\n",
              "      <td>Riohacha</td>\n",
              "      <td>La Guajira</td>\n",
              "      <td>18</td>\n",
              "      <td>18</td>\n",
              "      <td>225</td>\n",
              "      <td>197</td>\n",
              "      <td>120</td>\n",
              "    </tr>\n",
              "    <tr>\n",
              "      <th>99998</th>\n",
              "      <td>Bernard</td>\n",
              "      <td>Thurman</td>\n",
              "      <td>m</td>\n",
              "      <td>Puerto Carreno</td>\n",
              "      <td>Vichada</td>\n",
              "      <td>32</td>\n",
              "      <td>13</td>\n",
              "      <td>125</td>\n",
              "      <td>213</td>\n",
              "      <td>139</td>\n",
              "    </tr>\n",
              "    <tr>\n",
              "      <th>99999</th>\n",
              "      <td>Jeffrey</td>\n",
              "      <td>Ringer</td>\n",
              "      <td>m</td>\n",
              "      <td>Tunja</td>\n",
              "      <td>Boyaca</td>\n",
              "      <td>6</td>\n",
              "      <td>15</td>\n",
              "      <td>221</td>\n",
              "      <td>52</td>\n",
              "      <td>22</td>\n",
              "    </tr>\n",
              "  </tbody>\n",
              "</table>\n",
              "</div>"
            ],
            "text/plain": [
              "      first_name last_name gender       city_name     department_name  \\\n",
              "99995       John    Kimmel      m          Cucuta  Norte de Santander   \n",
              "99996     George  Harkness      m       Cartagena             Bolivar   \n",
              "99997      Frida     Ellis      f        Riohacha          La Guajira   \n",
              "99998    Bernard   Thurman      m  Puerto Carreno             Vichada   \n",
              "99999    Jeffrey    Ringer      m           Tunja              Boyaca   \n",
              "\n",
              "       id_branch  medicine_type  medicine_quantity  systolic_pressure  \\\n",
              "99995         22             19                 46                194   \n",
              "99996          5             10                161                 20   \n",
              "99997         18             18                225                197   \n",
              "99998         32             13                125                213   \n",
              "99999          6             15                221                 52   \n",
              "\n",
              "       diastolic_pressure  \n",
              "99995                 122  \n",
              "99996                  11  \n",
              "99997                 120  \n",
              "99998                 139  \n",
              "99999                  22  "
            ]
          },
          "execution_count": 31,
          "metadata": {},
          "output_type": "execute_result"
        }
      ],
      "source": [
        "#método similar a head pero muestra desde el final\n",
        "df.tail()"
      ]
    },
    {
      "cell_type": "markdown",
      "metadata": {
        "id": "X2q79RFfL3S8"
      },
      "source": [
        "**info()**"
      ]
    },
    {
      "cell_type": "code",
      "execution_count": 32,
      "metadata": {
        "id": "-PwvD9F1LH9B"
      },
      "outputs": [
        {
          "name": "stdout",
          "output_type": "stream",
          "text": [
            "<class 'pandas.core.frame.DataFrame'>\n",
            "RangeIndex: 100000 entries, 0 to 99999\n",
            "Data columns (total 10 columns):\n",
            " #   Column              Non-Null Count   Dtype \n",
            "---  ------              --------------   ----- \n",
            " 0   first_name          100000 non-null  object\n",
            " 1   last_name           100000 non-null  object\n",
            " 2   gender              100000 non-null  object\n",
            " 3   city_name           100000 non-null  object\n",
            " 4   department_name     100000 non-null  object\n",
            " 5   id_branch           100000 non-null  int64 \n",
            " 6   medicine_type       100000 non-null  int64 \n",
            " 7   medicine_quantity   100000 non-null  int64 \n",
            " 8   systolic_pressure   100000 non-null  int64 \n",
            " 9   diastolic_pressure  100000 non-null  int64 \n",
            "dtypes: int64(5), object(5)\n",
            "memory usage: 7.6+ MB\n"
          ]
        }
      ],
      "source": [
        "#Este método nos aporta información sobre nuestro dataset, en este ejemplo no tenemos nulos, ni ninguna dificultad (hermoso que fuese siempre asi)\n",
        "df.info()"
      ]
    },
    {
      "cell_type": "code",
      "execution_count": 34,
      "metadata": {
        "id": "97VmzbKtMg1A"
      },
      "outputs": [
        {
          "data": {
            "text/plain": [
              "Index(['first_name', 'last_name', 'gender', 'city_name', 'department_name',\n",
              "       'id_branch', 'medicine_type', 'medicine_quantity', 'systolic_pressure',\n",
              "       'diastolic_pressure'],\n",
              "      dtype='object')"
            ]
          },
          "execution_count": 34,
          "metadata": {},
          "output_type": "execute_result"
        }
      ],
      "source": [
        "#ver el nombre de las columnas\n",
        "df.columns"
      ]
    },
    {
      "cell_type": "code",
      "execution_count": 35,
      "metadata": {
        "id": "mWX3EGunNNh6"
      },
      "outputs": [
        {
          "data": {
            "text/plain": [
              "RangeIndex(start=0, stop=100000, step=1)"
            ]
          },
          "execution_count": 35,
          "metadata": {},
          "output_type": "execute_result"
        }
      ],
      "source": [
        "#ver el indice\n",
        "df.index\n",
        "#en este caso nos dice que va desde 0 a 100 mil con pasos de 1"
      ]
    },
    {
      "cell_type": "markdown",
      "metadata": {
        "id": "64q152GPPLuS"
      },
      "source": [
        "La función describe nos entrega las estadísticas descriptivas que nos permite conocer la tendencia de los datos, dispersión, distribución, valores nulos y otros más."
      ]
    },
    {
      "cell_type": "code",
      "execution_count": 36,
      "metadata": {},
      "outputs": [
        {
          "data": {
            "text/html": [
              "<div>\n",
              "<style scoped>\n",
              "    .dataframe tbody tr th:only-of-type {\n",
              "        vertical-align: middle;\n",
              "    }\n",
              "\n",
              "    .dataframe tbody tr th {\n",
              "        vertical-align: top;\n",
              "    }\n",
              "\n",
              "    .dataframe thead th {\n",
              "        text-align: right;\n",
              "    }\n",
              "</style>\n",
              "<table border=\"1\" class=\"dataframe\">\n",
              "  <thead>\n",
              "    <tr style=\"text-align: right;\">\n",
              "      <th></th>\n",
              "      <th>id_branch</th>\n",
              "      <th>medicine_type</th>\n",
              "      <th>medicine_quantity</th>\n",
              "      <th>systolic_pressure</th>\n",
              "      <th>diastolic_pressure</th>\n",
              "    </tr>\n",
              "  </thead>\n",
              "  <tbody>\n",
              "    <tr>\n",
              "      <th>count</th>\n",
              "      <td>100000.000000</td>\n",
              "      <td>100000.00000</td>\n",
              "      <td>100000.000000</td>\n",
              "      <td>100000.000000</td>\n",
              "      <td>100000.000000</td>\n",
              "    </tr>\n",
              "    <tr>\n",
              "      <th>mean</th>\n",
              "      <td>16.501000</td>\n",
              "      <td>10.46311</td>\n",
              "      <td>150.525970</td>\n",
              "      <td>162.720940</td>\n",
              "      <td>104.923600</td>\n",
              "    </tr>\n",
              "    <tr>\n",
              "      <th>std</th>\n",
              "      <td>9.227581</td>\n",
              "      <td>5.75670</td>\n",
              "      <td>86.583277</td>\n",
              "      <td>64.953412</td>\n",
              "      <td>43.240598</td>\n",
              "    </tr>\n",
              "    <tr>\n",
              "      <th>min</th>\n",
              "      <td>1.000000</td>\n",
              "      <td>1.00000</td>\n",
              "      <td>1.000000</td>\n",
              "      <td>5.000000</td>\n",
              "      <td>5.000000</td>\n",
              "    </tr>\n",
              "    <tr>\n",
              "      <th>25%</th>\n",
              "      <td>9.000000</td>\n",
              "      <td>5.00000</td>\n",
              "      <td>76.000000</td>\n",
              "      <td>123.000000</td>\n",
              "      <td>73.000000</td>\n",
              "    </tr>\n",
              "    <tr>\n",
              "      <th>50%</th>\n",
              "      <td>16.000000</td>\n",
              "      <td>10.00000</td>\n",
              "      <td>151.000000</td>\n",
              "      <td>174.000000</td>\n",
              "      <td>111.000000</td>\n",
              "    </tr>\n",
              "    <tr>\n",
              "      <th>75%</th>\n",
              "      <td>24.000000</td>\n",
              "      <td>15.00000</td>\n",
              "      <td>225.000000</td>\n",
              "      <td>203.250000</td>\n",
              "      <td>130.000000</td>\n",
              "    </tr>\n",
              "    <tr>\n",
              "      <th>max</th>\n",
              "      <td>32.000000</td>\n",
              "      <td>20.00000</td>\n",
              "      <td>300.000000</td>\n",
              "      <td>300.000000</td>\n",
              "      <td>200.000000</td>\n",
              "    </tr>\n",
              "  </tbody>\n",
              "</table>\n",
              "</div>"
            ],
            "text/plain": [
              "           id_branch  medicine_type  medicine_quantity  systolic_pressure  \\\n",
              "count  100000.000000   100000.00000      100000.000000      100000.000000   \n",
              "mean       16.501000       10.46311         150.525970         162.720940   \n",
              "std         9.227581        5.75670          86.583277          64.953412   \n",
              "min         1.000000        1.00000           1.000000           5.000000   \n",
              "25%         9.000000        5.00000          76.000000         123.000000   \n",
              "50%        16.000000       10.00000         151.000000         174.000000   \n",
              "75%        24.000000       15.00000         225.000000         203.250000   \n",
              "max        32.000000       20.00000         300.000000         300.000000   \n",
              "\n",
              "       diastolic_pressure  \n",
              "count       100000.000000  \n",
              "mean           104.923600  \n",
              "std             43.240598  \n",
              "min              5.000000  \n",
              "25%             73.000000  \n",
              "50%            111.000000  \n",
              "75%            130.000000  \n",
              "max            200.000000  "
            ]
          },
          "execution_count": 36,
          "metadata": {},
          "output_type": "execute_result"
        }
      ],
      "source": [
        "#este método nos aporta datos de valor, media, máximo, mínimo, promedios....\n",
        "df.describe()\n",
        "#es importante notar que solo toma las columnas que tienen valores numéricos"
      ]
    },
    {
      "cell_type": "code",
      "execution_count": 37,
      "metadata": {
        "id": "yXoxOofJPQd8"
      },
      "outputs": [
        {
          "data": {
            "text/plain": [
              "first_name            Patricia\n",
              "last_name                 Moss\n",
              "gender                       f\n",
              "city_name              Inirida\n",
              "department_name        Guainia\n",
              "id_branch                   15\n",
              "medicine_type                8\n",
              "medicine_quantity          279\n",
              "systolic_pressure          211\n",
              "diastolic_pressure         129\n",
              "Name: 25, dtype: object"
            ]
          },
          "execution_count": 37,
          "metadata": {},
          "output_type": "execute_result"
        }
      ],
      "source": [
        "#acceder a una fila puntual\n",
        "df.iloc[25]"
      ]
    },
    {
      "cell_type": "code",
      "execution_count": 38,
      "metadata": {
        "id": "jNivm76ARNX2"
      },
      "outputs": [
        {
          "data": {
            "text/plain": [
              "0           Meagan\n",
              "1         Jennifer\n",
              "2          Dorothy\n",
              "3        Stephanie\n",
              "4            Keith\n",
              "           ...    \n",
              "99995         John\n",
              "99996       George\n",
              "99997        Frida\n",
              "99998      Bernard\n",
              "99999      Jeffrey\n",
              "Name: first_name, Length: 100000, dtype: object"
            ]
          },
          "execution_count": 38,
          "metadata": {},
          "output_type": "execute_result"
        }
      ],
      "source": [
        "#acceder a una columna completa\n",
        "df[\"first_name\"]"
      ]
    },
    {
      "cell_type": "code",
      "execution_count": 39,
      "metadata": {
        "id": "tHAQ5NKtSw7V"
      },
      "outputs": [
        {
          "data": {
            "text/plain": [
              "0           Meagan\n",
              "1         Jennifer\n",
              "2          Dorothy\n",
              "3        Stephanie\n",
              "4            Keith\n",
              "           ...    \n",
              "99995         John\n",
              "99996       George\n",
              "99997        Frida\n",
              "99998      Bernard\n",
              "99999      Jeffrey\n",
              "Name: first_name, Length: 100000, dtype: object"
            ]
          },
          "execution_count": 39,
          "metadata": {},
          "output_type": "execute_result"
        }
      ],
      "source": [
        "df.first_name"
      ]
    },
    {
      "cell_type": "code",
      "execution_count": 40,
      "metadata": {
        "id": "ag4OP2hSTPqV"
      },
      "outputs": [
        {
          "data": {
            "text/plain": [
              "'Patricia'"
            ]
          },
          "execution_count": 40,
          "metadata": {},
          "output_type": "execute_result"
        }
      ],
      "source": [
        "#si agregamos otro indice obtendremos un valor especifico, por ej\n",
        "df[\"first_name\"][25]\n"
      ]
    },
    {
      "cell_type": "code",
      "execution_count": 41,
      "metadata": {
        "id": "wRdfrswIUUIN"
      },
      "outputs": [
        {
          "data": {
            "text/plain": [
              "'Patricia'"
            ]
          },
          "execution_count": 41,
          "metadata": {},
          "output_type": "execute_result"
        }
      ],
      "source": [
        "df.first_name[25]"
      ]
    },
    {
      "cell_type": "code",
      "execution_count": 43,
      "metadata": {
        "id": "HkPz0jaPU1XI"
      },
      "outputs": [
        {
          "data": {
            "text/plain": [
              "0         True\n",
              "1         True\n",
              "2         True\n",
              "3         True\n",
              "4        False\n",
              "         ...  \n",
              "99995     True\n",
              "99996    False\n",
              "99997     True\n",
              "99998     True\n",
              "99999    False\n",
              "Name: systolic_pressure, Length: 100000, dtype: bool"
            ]
          },
          "execution_count": 43,
          "metadata": {},
          "output_type": "execute_result"
        }
      ],
      "source": [
        "#Mascaras, las mascaras nos permitiran hacer filtros mas complejos\n",
        "mascara = df[\"systolic_pressure\"] > 100\n",
        "# veremos que el df mascara es una dataframe lleno de booleanos \n",
        "mascara"
      ]
    },
    {
      "cell_type": "code",
      "execution_count": 44,
      "metadata": {
        "id": "5_-DTzvJVWM9"
      },
      "outputs": [
        {
          "data": {
            "text/html": [
              "<div>\n",
              "<style scoped>\n",
              "    .dataframe tbody tr th:only-of-type {\n",
              "        vertical-align: middle;\n",
              "    }\n",
              "\n",
              "    .dataframe tbody tr th {\n",
              "        vertical-align: top;\n",
              "    }\n",
              "\n",
              "    .dataframe thead th {\n",
              "        text-align: right;\n",
              "    }\n",
              "</style>\n",
              "<table border=\"1\" class=\"dataframe\">\n",
              "  <thead>\n",
              "    <tr style=\"text-align: right;\">\n",
              "      <th></th>\n",
              "      <th>first_name</th>\n",
              "      <th>last_name</th>\n",
              "      <th>gender</th>\n",
              "      <th>city_name</th>\n",
              "      <th>department_name</th>\n",
              "      <th>id_branch</th>\n",
              "      <th>medicine_type</th>\n",
              "      <th>medicine_quantity</th>\n",
              "      <th>systolic_pressure</th>\n",
              "      <th>diastolic_pressure</th>\n",
              "    </tr>\n",
              "  </thead>\n",
              "  <tbody>\n",
              "    <tr>\n",
              "      <th>0</th>\n",
              "      <td>Meagan</td>\n",
              "      <td>Swanson</td>\n",
              "      <td>f</td>\n",
              "      <td>Bucaramanga</td>\n",
              "      <td>Santander</td>\n",
              "      <td>27</td>\n",
              "      <td>8</td>\n",
              "      <td>158</td>\n",
              "      <td>142</td>\n",
              "      <td>85</td>\n",
              "    </tr>\n",
              "    <tr>\n",
              "      <th>1</th>\n",
              "      <td>Jennifer</td>\n",
              "      <td>Hancock</td>\n",
              "      <td>f</td>\n",
              "      <td>Bogota</td>\n",
              "      <td>Cundinamarca</td>\n",
              "      <td>14</td>\n",
              "      <td>9</td>\n",
              "      <td>11</td>\n",
              "      <td>186</td>\n",
              "      <td>115</td>\n",
              "    </tr>\n",
              "    <tr>\n",
              "      <th>2</th>\n",
              "      <td>Dorothy</td>\n",
              "      <td>Brumley</td>\n",
              "      <td>f</td>\n",
              "      <td>Medellin</td>\n",
              "      <td>Antioquia</td>\n",
              "      <td>2</td>\n",
              "      <td>18</td>\n",
              "      <td>100</td>\n",
              "      <td>190</td>\n",
              "      <td>124</td>\n",
              "    </tr>\n",
              "    <tr>\n",
              "      <th>3</th>\n",
              "      <td>Stephanie</td>\n",
              "      <td>Lamb</td>\n",
              "      <td>f</td>\n",
              "      <td>Riohacha</td>\n",
              "      <td>La Guajira</td>\n",
              "      <td>18</td>\n",
              "      <td>9</td>\n",
              "      <td>57</td>\n",
              "      <td>212</td>\n",
              "      <td>144</td>\n",
              "    </tr>\n",
              "    <tr>\n",
              "      <th>5</th>\n",
              "      <td>Paul</td>\n",
              "      <td>Alberts</td>\n",
              "      <td>m</td>\n",
              "      <td>Barranquilla</td>\n",
              "      <td>Atlantico</td>\n",
              "      <td>4</td>\n",
              "      <td>13</td>\n",
              "      <td>297</td>\n",
              "      <td>163</td>\n",
              "      <td>105</td>\n",
              "    </tr>\n",
              "    <tr>\n",
              "      <th>...</th>\n",
              "      <td>...</td>\n",
              "      <td>...</td>\n",
              "      <td>...</td>\n",
              "      <td>...</td>\n",
              "      <td>...</td>\n",
              "      <td>...</td>\n",
              "      <td>...</td>\n",
              "      <td>...</td>\n",
              "      <td>...</td>\n",
              "      <td>...</td>\n",
              "    </tr>\n",
              "    <tr>\n",
              "      <th>99993</th>\n",
              "      <td>Ruth</td>\n",
              "      <td>Ross</td>\n",
              "      <td>f</td>\n",
              "      <td>Villavicencio</td>\n",
              "      <td>Meta</td>\n",
              "      <td>20</td>\n",
              "      <td>14</td>\n",
              "      <td>286</td>\n",
              "      <td>113</td>\n",
              "      <td>71</td>\n",
              "    </tr>\n",
              "    <tr>\n",
              "      <th>99994</th>\n",
              "      <td>Judy</td>\n",
              "      <td>Juenemann</td>\n",
              "      <td>f</td>\n",
              "      <td>Ibague</td>\n",
              "      <td>Tolima</td>\n",
              "      <td>29</td>\n",
              "      <td>1</td>\n",
              "      <td>91</td>\n",
              "      <td>170</td>\n",
              "      <td>117</td>\n",
              "    </tr>\n",
              "    <tr>\n",
              "      <th>99995</th>\n",
              "      <td>John</td>\n",
              "      <td>Kimmel</td>\n",
              "      <td>m</td>\n",
              "      <td>Cucuta</td>\n",
              "      <td>Norte de Santander</td>\n",
              "      <td>22</td>\n",
              "      <td>19</td>\n",
              "      <td>46</td>\n",
              "      <td>194</td>\n",
              "      <td>122</td>\n",
              "    </tr>\n",
              "    <tr>\n",
              "      <th>99997</th>\n",
              "      <td>Frida</td>\n",
              "      <td>Ellis</td>\n",
              "      <td>f</td>\n",
              "      <td>Riohacha</td>\n",
              "      <td>La Guajira</td>\n",
              "      <td>18</td>\n",
              "      <td>18</td>\n",
              "      <td>225</td>\n",
              "      <td>197</td>\n",
              "      <td>120</td>\n",
              "    </tr>\n",
              "    <tr>\n",
              "      <th>99998</th>\n",
              "      <td>Bernard</td>\n",
              "      <td>Thurman</td>\n",
              "      <td>m</td>\n",
              "      <td>Puerto Carreno</td>\n",
              "      <td>Vichada</td>\n",
              "      <td>32</td>\n",
              "      <td>13</td>\n",
              "      <td>125</td>\n",
              "      <td>213</td>\n",
              "      <td>139</td>\n",
              "    </tr>\n",
              "  </tbody>\n",
              "</table>\n",
              "<p>82419 rows × 10 columns</p>\n",
              "</div>"
            ],
            "text/plain": [
              "      first_name  last_name gender       city_name     department_name  \\\n",
              "0         Meagan    Swanson      f     Bucaramanga           Santander   \n",
              "1       Jennifer    Hancock      f          Bogota        Cundinamarca   \n",
              "2        Dorothy    Brumley      f        Medellin           Antioquia   \n",
              "3      Stephanie       Lamb      f        Riohacha          La Guajira   \n",
              "5           Paul    Alberts      m    Barranquilla           Atlantico   \n",
              "...          ...        ...    ...             ...                 ...   \n",
              "99993       Ruth       Ross      f   Villavicencio                Meta   \n",
              "99994       Judy  Juenemann      f          Ibague              Tolima   \n",
              "99995       John     Kimmel      m          Cucuta  Norte de Santander   \n",
              "99997      Frida      Ellis      f        Riohacha          La Guajira   \n",
              "99998    Bernard    Thurman      m  Puerto Carreno             Vichada   \n",
              "\n",
              "       id_branch  medicine_type  medicine_quantity  systolic_pressure  \\\n",
              "0             27              8                158                142   \n",
              "1             14              9                 11                186   \n",
              "2              2             18                100                190   \n",
              "3             18              9                 57                212   \n",
              "5              4             13                297                163   \n",
              "...          ...            ...                ...                ...   \n",
              "99993         20             14                286                113   \n",
              "99994         29              1                 91                170   \n",
              "99995         22             19                 46                194   \n",
              "99997         18             18                225                197   \n",
              "99998         32             13                125                213   \n",
              "\n",
              "       diastolic_pressure  \n",
              "0                      85  \n",
              "1                     115  \n",
              "2                     124  \n",
              "3                     144  \n",
              "5                     105  \n",
              "...                   ...  \n",
              "99993                  71  \n",
              "99994                 117  \n",
              "99995                 122  \n",
              "99997                 120  \n",
              "99998                 139  \n",
              "\n",
              "[82419 rows x 10 columns]"
            ]
          },
          "execution_count": 44,
          "metadata": {},
          "output_type": "execute_result"
        }
      ],
      "source": [
        "#este filtro puede ser aplicado al df de esta manera y solo nos mostrara los datos que respeten la condición\n",
        "df[mascara]\n",
        "#nótese que es lo mismo escribir directamente df[df[\"systolic_pressure\"] > 100]"
      ]
    },
    {
      "cell_type": "code",
      "execution_count": 45,
      "metadata": {},
      "outputs": [
        {
          "data": {
            "text/plain": [
              "<AxesSubplot: ylabel='Frequency'>"
            ]
          },
          "execution_count": 45,
          "metadata": {},
          "output_type": "execute_result"
        },
        {
          "data": {
            "image/png": "[encoded data removed]",
            "text/plain": [
              "<Figure size 640x480 with 1 Axes>"
            ]
          },
          "metadata": {},
          "output_type": "display_data"
        }
      ],
      "source": [
        "#podremos hacer un histograma simple para visualizar \n",
        "df[\"systolic_pressure\"].plot.hist()"
      ]
    },
    {
      "attachments": {},
      "cell_type": "markdown",
      "metadata": {
        "id": "llnSzxt1YY2H"
      },
      "source": [
        "Otra manera de ver fácil los datos es usar algunos módulos específicos para esto\n",
        "suelen ser módulos pesado o un poco lerdos pero muy potentes si se esta comenzando para analizar datos"
      ]
    },
    {
      "cell_type": "code",
      "execution_count": null,
      "metadata": {},
      "outputs": [],
      "source": [
        "!pip3 install dtale"
      ]
    },
    {
      "cell_type": "code",
      "execution_count": 53,
      "metadata": {
        "id": "rUrbyVxYY7Z_"
      },
      "outputs": [],
      "source": [
        "import dtale"
      ]
    },
    {
      "cell_type": "code",
      "execution_count": 54,
      "metadata": {},
      "outputs": [
        {
          "data": {
            "text/html": [
              "\n",
              "        <iframe\n",
              "            width=\"100%\"\n",
              "            height=\"475\"\n",
              "            src=\"http://MacBook-Pro-de-Matias-449.local:40000/dtale/iframe/1\"\n",
              "            frameborder=\"0\"\n",
              "            allowfullscreen\n",
              "            \n",
              "        ></iframe>\n",
              "        "
            ],
            "text/plain": [
              "<IPython.lib.display.IFrame at 0x12fb01710>"
            ]
          },
          "metadata": {},
          "output_type": "display_data"
        },
        {
          "data": {
            "text/plain": []
          },
          "execution_count": 54,
          "metadata": {},
          "output_type": "execute_result"
        },
        {
          "name": "stdout",
          "output_type": "stream",
          "text": [
            "Executing shutdown due to inactivity...\n"
          ]
        },
        {
          "name": "stderr",
          "output_type": "stream",
          "text": [
            "2023-02-07 13:30:16,827 - INFO     - Executing shutdown due to inactivity...\n"
          ]
        },
        {
          "name": "stdout",
          "output_type": "stream",
          "text": [
            "Executing shutdown...\n"
          ]
        },
        {
          "name": "stderr",
          "output_type": "stream",
          "text": [
            "2023-02-07 13:30:16,996 - INFO     - Executing shutdown...\n"
          ]
        },
        {
          "name": "stdout",
          "output_type": "stream",
          "text": [
            "Exception on /shutdown [GET]\n",
            "Traceback (most recent call last):\n",
            "  File \"/Library/Frameworks/Python.framework/Versions/3.11/lib/python3.11/site-packages/flask/app.py\", line 2525, in wsgi_app\n",
            "    response = self.full_dispatch_request()\n",
            "               ^^^^^^^^^^^^^^^^^^^^^^^^^^^^\n",
            "  File \"/Library/Frameworks/Python.framework/Versions/3.11/lib/python3.11/site-packages/flask/app.py\", line 1822, in full_dispatch_request\n",
            "    rv = self.handle_user_exception(e)\n",
            "         ^^^^^^^^^^^^^^^^^^^^^^^^^^^^^\n",
            "  File \"/Library/Frameworks/Python.framework/Versions/3.11/lib/python3.11/site-packages/flask/app.py\", line 1820, in full_dispatch_request\n",
            "    rv = self.dispatch_request()\n",
            "         ^^^^^^^^^^^^^^^^^^^^^^^\n",
            "  File \"/Library/Frameworks/Python.framework/Versions/3.11/lib/python3.11/site-packages/flask/app.py\", line 1796, in dispatch_request\n",
            "    return self.ensure_sync(self.view_functions[rule.endpoint])(**view_args)\n",
            "           ^^^^^^^^^^^^^^^^^^^^^^^^^^^^^^^^^^^^^^^^^^^^^^^^^^^^^^^^^^^^^^^^^\n",
            "  File \"/Library/Frameworks/Python.framework/Versions/3.11/lib/python3.11/site-packages/dtale/app.py\", line 435, in shutdown\n",
            "    shutdown_server()\n",
            "  File \"/Library/Frameworks/Python.framework/Versions/3.11/lib/python3.11/site-packages/dtale/app.py\", line 421, in shutdown_server\n",
            "    raise RuntimeError(\"Not running with the Werkzeug Server\")\n",
            "RuntimeError: Not running with the Werkzeug Server\n"
          ]
        },
        {
          "name": "stderr",
          "output_type": "stream",
          "text": [
            "2023-02-07 13:30:16,998 - ERROR    - Exception on /shutdown [GET]\n",
            "Traceback (most recent call last):\n",
            "  File \"/Library/Frameworks/Python.framework/Versions/3.11/lib/python3.11/site-packages/flask/app.py\", line 2525, in wsgi_app\n",
            "    response = self.full_dispatch_request()\n",
            "               ^^^^^^^^^^^^^^^^^^^^^^^^^^^^\n",
            "  File \"/Library/Frameworks/Python.framework/Versions/3.11/lib/python3.11/site-packages/flask/app.py\", line 1822, in full_dispatch_request\n",
            "    rv = self.handle_user_exception(e)\n",
            "         ^^^^^^^^^^^^^^^^^^^^^^^^^^^^^\n",
            "  File \"/Library/Frameworks/Python.framework/Versions/3.11/lib/python3.11/site-packages/flask/app.py\", line 1820, in full_dispatch_request\n",
            "    rv = self.dispatch_request()\n",
            "         ^^^^^^^^^^^^^^^^^^^^^^^\n",
            "  File \"/Library/Frameworks/Python.framework/Versions/3.11/lib/python3.11/site-packages/flask/app.py\", line 1796, in dispatch_request\n",
            "    return self.ensure_sync(self.view_functions[rule.endpoint])(**view_args)\n",
            "           ^^^^^^^^^^^^^^^^^^^^^^^^^^^^^^^^^^^^^^^^^^^^^^^^^^^^^^^^^^^^^^^^^\n",
            "  File \"/Library/Frameworks/Python.framework/Versions/3.11/lib/python3.11/site-packages/dtale/app.py\", line 435, in shutdown\n",
            "    shutdown_server()\n",
            "  File \"/Library/Frameworks/Python.framework/Versions/3.11/lib/python3.11/site-packages/dtale/app.py\", line 421, in shutdown_server\n",
            "    raise RuntimeError(\"Not running with the Werkzeug Server\")\n",
            "RuntimeError: Not running with the Werkzeug Server\n"
          ]
        }
      ],
      "source": [
        "dtale.show(df)"
      ]
    }
  ],
  "metadata": {
    "colab": {
      "collapsed_sections": [],
      "name": "Espacio_trabajo.ipynb",
      "provenance": []
    },
    "kernelspec": {
      "display_name": "Python 3",
      "language": "python",
      "name": "python3"
    },
    "language_info": {
      "codemirror_mode": {
        "name": "ipython",
        "version": 3
      },
      "file_extension": ".py",
      "mimetype": "text/x-python",
      "name": "python",
      "nbconvert_exporter": "python",
      "pygments_lexer": "ipython3",
      "version": "3.11.0"
    },
    "vscode": {
      "interpreter": {
        "hash": "aee8b7b246df8f9039afb4144a1f6fd8d2ca17a180786b69acc140d282b71a49"
      }
    }
  },
  "nbformat": 4,
  "nbformat_minor": 0
}
