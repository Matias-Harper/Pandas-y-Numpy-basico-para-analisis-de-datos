{
 "cells": [
  {
   "cell_type": "code",
   "execution_count": 1,
   "metadata": {},
   "outputs": [],
   "source": [
    "import pandas as pd"
   ]
  },
  {
   "attachments": {},
   "cell_type": "markdown",
   "metadata": {},
   "source": [
    "1 - Abre el espacio de trabajo de la tarea anterior \n",
    "Yo voy a realizarlo en documentos diferentes pero ustedes puede unirlo asi no tienen tantos archivos"
   ]
  },
  {
   "attachments": {},
   "cell_type": "markdown",
   "metadata": {},
   "source": [
    "2 - Usa el código requerido para mostrar los datos de la columna 'medicine_type'"
   ]
  },
  {
   "cell_type": "code",
   "execution_count": 2,
   "metadata": {},
   "outputs": [],
   "source": [
    "df = pd.read_csv(\"../archivos/data.csv\")"
   ]
  },
  {
   "cell_type": "code",
   "execution_count": 4,
   "metadata": {},
   "outputs": [
    {
     "name": "stdout",
     "output_type": "stream",
     "text": [
      "0         8\n",
      "1         9\n",
      "2        18\n",
      "3         9\n",
      "4        20\n",
      "         ..\n",
      "99995    19\n",
      "99996    10\n",
      "99997    18\n",
      "99998    13\n",
      "99999    15\n",
      "Name: medicine_type, Length: 100000, dtype: int64\n"
     ]
    }
   ],
   "source": [
    "print(df.medicine_type)"
   ]
  },
  {
   "attachments": {},
   "cell_type": "markdown",
   "metadata": {},
   "source": [
    "3. Realiza un filtro de esta columna para los valores menores a 5."
   ]
  },
  {
   "cell_type": "code",
   "execution_count": 5,
   "metadata": {},
   "outputs": [
    {
     "data": {
      "text/plain": [
       "0        False\n",
       "1        False\n",
       "2        False\n",
       "3        False\n",
       "4        False\n",
       "         ...  \n",
       "99995    False\n",
       "99996    False\n",
       "99997    False\n",
       "99998    False\n",
       "99999    False\n",
       "Name: medicine_type, Length: 100000, dtype: bool"
      ]
     },
     "execution_count": 5,
     "metadata": {},
     "output_type": "execute_result"
    }
   ],
   "source": [
    "df.medicine_type < 5"
   ]
  },
  {
   "cell_type": "code",
   "execution_count": 8,
   "metadata": {},
   "outputs": [
    {
     "data": {
      "text/html": [
       "<div>\n",
       "<style scoped>\n",
       "    .dataframe tbody tr th:only-of-type {\n",
       "        vertical-align: middle;\n",
       "    }\n",
       "\n",
       "    .dataframe tbody tr th {\n",
       "        vertical-align: top;\n",
       "    }\n",
       "\n",
       "    .dataframe thead th {\n",
       "        text-align: right;\n",
       "    }\n",
       "</style>\n",
       "<table border=\"1\" class=\"dataframe\">\n",
       "  <thead>\n",
       "    <tr style=\"text-align: right;\">\n",
       "      <th></th>\n",
       "      <th>first_name</th>\n",
       "      <th>last_name</th>\n",
       "      <th>gender</th>\n",
       "      <th>city_name</th>\n",
       "      <th>department_name</th>\n",
       "      <th>id_branch</th>\n",
       "      <th>medicine_type</th>\n",
       "      <th>medicine_quantity</th>\n",
       "      <th>systolic_pressure</th>\n",
       "      <th>diastolic_pressure</th>\n",
       "    </tr>\n",
       "  </thead>\n",
       "  <tbody>\n",
       "    <tr>\n",
       "      <th>8</th>\n",
       "      <td>Cheryl</td>\n",
       "      <td>Mink</td>\n",
       "      <td>f</td>\n",
       "      <td>Valledupar</td>\n",
       "      <td>Cesar</td>\n",
       "      <td>11</td>\n",
       "      <td>4</td>\n",
       "      <td>43</td>\n",
       "      <td>41</td>\n",
       "      <td>28</td>\n",
       "    </tr>\n",
       "    <tr>\n",
       "      <th>12</th>\n",
       "      <td>Alisha</td>\n",
       "      <td>Parris</td>\n",
       "      <td>f</td>\n",
       "      <td>Arauca</td>\n",
       "      <td>Arauca</td>\n",
       "      <td>3</td>\n",
       "      <td>3</td>\n",
       "      <td>64</td>\n",
       "      <td>190</td>\n",
       "      <td>120</td>\n",
       "    </tr>\n",
       "    <tr>\n",
       "      <th>13</th>\n",
       "      <td>Ivan</td>\n",
       "      <td>Felder</td>\n",
       "      <td>m</td>\n",
       "      <td>Cali</td>\n",
       "      <td>Valle del Cauca</td>\n",
       "      <td>30</td>\n",
       "      <td>1</td>\n",
       "      <td>150</td>\n",
       "      <td>204</td>\n",
       "      <td>137</td>\n",
       "    </tr>\n",
       "    <tr>\n",
       "      <th>18</th>\n",
       "      <td>Derek</td>\n",
       "      <td>Wise</td>\n",
       "      <td>m</td>\n",
       "      <td>Barranquilla</td>\n",
       "      <td>Atlantico</td>\n",
       "      <td>4</td>\n",
       "      <td>1</td>\n",
       "      <td>243</td>\n",
       "      <td>131</td>\n",
       "      <td>75</td>\n",
       "    </tr>\n",
       "    <tr>\n",
       "      <th>19</th>\n",
       "      <td>Rebekah</td>\n",
       "      <td>Stewart</td>\n",
       "      <td>f</td>\n",
       "      <td>Sincelejo</td>\n",
       "      <td>Sucre</td>\n",
       "      <td>28</td>\n",
       "      <td>3</td>\n",
       "      <td>155</td>\n",
       "      <td>162</td>\n",
       "      <td>118</td>\n",
       "    </tr>\n",
       "    <tr>\n",
       "      <th>...</th>\n",
       "      <td>...</td>\n",
       "      <td>...</td>\n",
       "      <td>...</td>\n",
       "      <td>...</td>\n",
       "      <td>...</td>\n",
       "      <td>...</td>\n",
       "      <td>...</td>\n",
       "      <td>...</td>\n",
       "      <td>...</td>\n",
       "      <td>...</td>\n",
       "    </tr>\n",
       "    <tr>\n",
       "      <th>99974</th>\n",
       "      <td>Alfredo</td>\n",
       "      <td>Stokes</td>\n",
       "      <td>m</td>\n",
       "      <td>Quibdo</td>\n",
       "      <td>Choco</td>\n",
       "      <td>12</td>\n",
       "      <td>4</td>\n",
       "      <td>45</td>\n",
       "      <td>148</td>\n",
       "      <td>102</td>\n",
       "    </tr>\n",
       "    <tr>\n",
       "      <th>99981</th>\n",
       "      <td>Gwendolyn</td>\n",
       "      <td>Bourgeois</td>\n",
       "      <td>f</td>\n",
       "      <td>Ibague</td>\n",
       "      <td>Tolima</td>\n",
       "      <td>29</td>\n",
       "      <td>4</td>\n",
       "      <td>262</td>\n",
       "      <td>295</td>\n",
       "      <td>189</td>\n",
       "    </tr>\n",
       "    <tr>\n",
       "      <th>99982</th>\n",
       "      <td>Cliff</td>\n",
       "      <td>Lotton</td>\n",
       "      <td>m</td>\n",
       "      <td>Cali</td>\n",
       "      <td>Valle del Cauca</td>\n",
       "      <td>30</td>\n",
       "      <td>2</td>\n",
       "      <td>14</td>\n",
       "      <td>131</td>\n",
       "      <td>72</td>\n",
       "    </tr>\n",
       "    <tr>\n",
       "      <th>99985</th>\n",
       "      <td>Treva</td>\n",
       "      <td>Whitaker</td>\n",
       "      <td>f</td>\n",
       "      <td>Santa Marta</td>\n",
       "      <td>Magdalena</td>\n",
       "      <td>19</td>\n",
       "      <td>1</td>\n",
       "      <td>67</td>\n",
       "      <td>26</td>\n",
       "      <td>27</td>\n",
       "    </tr>\n",
       "    <tr>\n",
       "      <th>99994</th>\n",
       "      <td>Judy</td>\n",
       "      <td>Juenemann</td>\n",
       "      <td>f</td>\n",
       "      <td>Ibague</td>\n",
       "      <td>Tolima</td>\n",
       "      <td>29</td>\n",
       "      <td>1</td>\n",
       "      <td>91</td>\n",
       "      <td>170</td>\n",
       "      <td>117</td>\n",
       "    </tr>\n",
       "  </tbody>\n",
       "</table>\n",
       "<p>20196 rows × 10 columns</p>\n",
       "</div>"
      ],
      "text/plain": [
       "      first_name  last_name gender     city_name  department_name  id_branch  \\\n",
       "8         Cheryl       Mink      f    Valledupar            Cesar         11   \n",
       "12        Alisha     Parris      f        Arauca           Arauca          3   \n",
       "13          Ivan     Felder      m          Cali  Valle del Cauca         30   \n",
       "18         Derek       Wise      m  Barranquilla        Atlantico          4   \n",
       "19       Rebekah    Stewart      f     Sincelejo            Sucre         28   \n",
       "...          ...        ...    ...           ...              ...        ...   \n",
       "99974    Alfredo     Stokes      m        Quibdo            Choco         12   \n",
       "99981  Gwendolyn  Bourgeois      f        Ibague           Tolima         29   \n",
       "99982      Cliff     Lotton      m          Cali  Valle del Cauca         30   \n",
       "99985      Treva   Whitaker      f   Santa Marta        Magdalena         19   \n",
       "99994       Judy  Juenemann      f        Ibague           Tolima         29   \n",
       "\n",
       "       medicine_type  medicine_quantity  systolic_pressure  diastolic_pressure  \n",
       "8                  4                 43                 41                  28  \n",
       "12                 3                 64                190                 120  \n",
       "13                 1                150                204                 137  \n",
       "18                 1                243                131                  75  \n",
       "19                 3                155                162                 118  \n",
       "...              ...                ...                ...                 ...  \n",
       "99974              4                 45                148                 102  \n",
       "99981              4                262                295                 189  \n",
       "99982              2                 14                131                  72  \n",
       "99985              1                 67                 26                  27  \n",
       "99994              1                 91                170                 117  \n",
       "\n",
       "[20196 rows x 10 columns]"
      ]
     },
     "execution_count": 8,
     "metadata": {},
     "output_type": "execute_result"
    }
   ],
   "source": [
    "df[df.medicine_type < 5]"
   ]
  },
  {
   "cell_type": "code",
   "execution_count": 7,
   "metadata": {},
   "outputs": [
    {
     "data": {
      "text/plain": [
       "8        4\n",
       "12       3\n",
       "13       1\n",
       "18       1\n",
       "19       3\n",
       "        ..\n",
       "99974    4\n",
       "99981    4\n",
       "99982    2\n",
       "99985    1\n",
       "99994    1\n",
       "Name: medicine_type, Length: 20196, dtype: int64"
      ]
     },
     "execution_count": 7,
     "metadata": {},
     "output_type": "execute_result"
    }
   ],
   "source": [
    "df[df.medicine_type < 5].medicine_type"
   ]
  },
  {
   "attachments": {},
   "cell_type": "markdown",
   "metadata": {},
   "source": [
    "4 - Crea un gráfico de la columna mencionada en el punto tres"
   ]
  },
  {
   "cell_type": "code",
   "execution_count": 9,
   "metadata": {},
   "outputs": [
    {
     "data": {
      "text/plain": [
       "<AxesSubplot: ylabel='Frequency'>"
      ]
     },
     "execution_count": 9,
     "metadata": {},
     "output_type": "execute_result"
    },
    {
     "data": {
      "image/png": "[encoded data removed]",
      "text/plain": [
       "<Figure size 640x480 with 1 Axes>"
      ]
     },
     "metadata": {},
     "output_type": "display_data"
    }
   ],
   "source": [
    "graf = df[df.medicine_type < 5].medicine_type\n",
    "graf.plot.hist()"
   ]
  },
  {
   "cell_type": "code",
   "execution_count": 10,
   "metadata": {},
   "outputs": [
    {
     "data": {
      "text/html": [
       "\n",
       "        <iframe\n",
       "            width=\"100%\"\n",
       "            height=\"475\"\n",
       "            src=\"http://MacBook-Pro-de-Matias-449.local:40001/dtale/iframe/1\"\n",
       "            frameborder=\"0\"\n",
       "            allowfullscreen\n",
       "            \n",
       "        ></iframe>\n",
       "        "
      ],
      "text/plain": [
       "<IPython.lib.display.IFrame at 0x123b8d390>"
      ]
     },
     "metadata": {},
     "output_type": "display_data"
    },
    {
     "data": {
      "text/plain": []
     },
     "execution_count": 10,
     "metadata": {},
     "output_type": "execute_result"
    },
    {
     "name": "stdout",
     "output_type": "stream",
     "text": [
      "Executing shutdown due to inactivity...\n"
     ]
    },
    {
     "name": "stderr",
     "output_type": "stream",
     "text": [
      "2023-02-07 13:40:12,836 - INFO     - Executing shutdown due to inactivity...\n"
     ]
    },
    {
     "name": "stdout",
     "output_type": "stream",
     "text": [
      "Executing shutdown...\n"
     ]
    },
    {
     "name": "stderr",
     "output_type": "stream",
     "text": [
      "2023-02-07 13:40:12,851 - INFO     - Executing shutdown...\n"
     ]
    },
    {
     "name": "stdout",
     "output_type": "stream",
     "text": [
      "Exception on /shutdown [GET]\n",
      "Traceback (most recent call last):\n",
      "  File \"/Library/Frameworks/Python.framework/Versions/3.11/lib/python3.11/site-packages/flask/app.py\", line 2525, in wsgi_app\n",
      "    response = self.full_dispatch_request()\n",
      "               ^^^^^^^^^^^^^^^^^^^^^^^^^^^^\n",
      "  File \"/Library/Frameworks/Python.framework/Versions/3.11/lib/python3.11/site-packages/flask/app.py\", line 1822, in full_dispatch_request\n",
      "    rv = self.handle_user_exception(e)\n",
      "         ^^^^^^^^^^^^^^^^^^^^^^^^^^^^^\n",
      "  File \"/Library/Frameworks/Python.framework/Versions/3.11/lib/python3.11/site-packages/flask/app.py\", line 1820, in full_dispatch_request\n",
      "    rv = self.dispatch_request()\n",
      "         ^^^^^^^^^^^^^^^^^^^^^^^\n",
      "  File \"/Library/Frameworks/Python.framework/Versions/3.11/lib/python3.11/site-packages/flask/app.py\", line 1796, in dispatch_request\n",
      "    return self.ensure_sync(self.view_functions[rule.endpoint])(**view_args)\n",
      "           ^^^^^^^^^^^^^^^^^^^^^^^^^^^^^^^^^^^^^^^^^^^^^^^^^^^^^^^^^^^^^^^^^\n",
      "  File \"/Library/Frameworks/Python.framework/Versions/3.11/lib/python3.11/site-packages/dtale/app.py\", line 435, in shutdown\n",
      "    shutdown_server()\n",
      "  File \"/Library/Frameworks/Python.framework/Versions/3.11/lib/python3.11/site-packages/dtale/app.py\", line 421, in shutdown_server\n",
      "    raise RuntimeError(\"Not running with the Werkzeug Server\")\n",
      "RuntimeError: Not running with the Werkzeug Server\n"
     ]
    },
    {
     "name": "stderr",
     "output_type": "stream",
     "text": [
      "2023-02-07 13:40:12,853 - ERROR    - Exception on /shutdown [GET]\n",
      "Traceback (most recent call last):\n",
      "  File \"/Library/Frameworks/Python.framework/Versions/3.11/lib/python3.11/site-packages/flask/app.py\", line 2525, in wsgi_app\n",
      "    response = self.full_dispatch_request()\n",
      "               ^^^^^^^^^^^^^^^^^^^^^^^^^^^^\n",
      "  File \"/Library/Frameworks/Python.framework/Versions/3.11/lib/python3.11/site-packages/flask/app.py\", line 1822, in full_dispatch_request\n",
      "    rv = self.handle_user_exception(e)\n",
      "         ^^^^^^^^^^^^^^^^^^^^^^^^^^^^^\n",
      "  File \"/Library/Frameworks/Python.framework/Versions/3.11/lib/python3.11/site-packages/flask/app.py\", line 1820, in full_dispatch_request\n",
      "    rv = self.dispatch_request()\n",
      "         ^^^^^^^^^^^^^^^^^^^^^^^\n",
      "  File \"/Library/Frameworks/Python.framework/Versions/3.11/lib/python3.11/site-packages/flask/app.py\", line 1796, in dispatch_request\n",
      "    return self.ensure_sync(self.view_functions[rule.endpoint])(**view_args)\n",
      "           ^^^^^^^^^^^^^^^^^^^^^^^^^^^^^^^^^^^^^^^^^^^^^^^^^^^^^^^^^^^^^^^^^\n",
      "  File \"/Library/Frameworks/Python.framework/Versions/3.11/lib/python3.11/site-packages/dtale/app.py\", line 435, in shutdown\n",
      "    shutdown_server()\n",
      "  File \"/Library/Frameworks/Python.framework/Versions/3.11/lib/python3.11/site-packages/dtale/app.py\", line 421, in shutdown_server\n",
      "    raise RuntimeError(\"Not running with the Werkzeug Server\")\n",
      "RuntimeError: Not running with the Werkzeug Server\n"
     ]
    }
   ],
   "source": [
    "import dtale\n",
    "dtale.show(graf)"
   ]
  }
 ],
 "metadata": {
  "kernelspec": {
   "display_name": "Python 3",
   "language": "python",
   "name": "python3"
  },
  "language_info": {
   "codemirror_mode": {
    "name": "ipython",
    "version": 3
   },
   "file_extension": ".py",
   "mimetype": "text/x-python",
   "name": "python",
   "nbconvert_exporter": "python",
   "pygments_lexer": "ipython3",
   "version": "3.11.0"
  },
  "orig_nbformat": 4,
  "vscode": {
   "interpreter": {
    "hash": "aee8b7b246df8f9039afb4144a1f6fd8d2ca17a180786b69acc140d282b71a49"
   }
  }
 },
 "nbformat": 4,
 "nbformat_minor": 2
}
